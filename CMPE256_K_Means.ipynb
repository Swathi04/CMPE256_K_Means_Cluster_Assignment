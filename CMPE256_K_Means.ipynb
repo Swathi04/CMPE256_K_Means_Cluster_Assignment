{
  "nbformat": 4,
  "nbformat_minor": 0,
  "metadata": {
    "colab": {
      "name": "CMPE256_K_Means.ipynb",
      "provenance": [],
      "authorship_tag": "ABX9TyPNYkRCQxS3gvTzayReHLtA",
      "include_colab_link": true
    },
    "kernelspec": {
      "name": "python3",
      "display_name": "Python 3"
    },
    "language_info": {
      "name": "python"
    }
  },
  "cells": [
    {
      "cell_type": "markdown",
      "metadata": {
        "id": "view-in-github",
        "colab_type": "text"
      },
      "source": [
        "<a href=\"https://colab.research.google.com/github/Swathi04/CMPE256_K_Means_Cluster_Assignment/blob/main/CMPE256_K_Means.ipynb\" target=\"_parent\"><img src=\"https://colab.research.google.com/assets/colab-badge.svg\" alt=\"Open In Colab\"/></a>"
      ]
    },
    {
      "cell_type": "markdown",
      "metadata": {
        "id": "S39yhgs70-RJ"
      },
      "source": [
        "#K MEANS CLUSTER (Shopping Index & Income Index)\n",
        "#Submitted by: SWATHI ANANDRAM"
      ]
    },
    {
      "cell_type": "markdown",
      "metadata": {
        "id": "EvOXUYPS1Mn8"
      },
      "source": [
        "##Necessary Imports"
      ]
    },
    {
      "cell_type": "code",
      "metadata": {
        "id": "gdkyrVYD06Jf"
      },
      "source": [
        "import pandas as pd\n",
        "import numpy as np\n",
        "from sklearn.cluster import KMeans\n",
        "from matplotlib import pyplot as plot"
      ],
      "execution_count": 37,
      "outputs": []
    },
    {
      "cell_type": "markdown",
      "metadata": {
        "id": "ykkSPdYd51xG"
      },
      "source": [
        "##Load data"
      ]
    },
    {
      "cell_type": "code",
      "metadata": {
        "id": "_Oxxlnbv1REU",
        "colab": {
          "base_uri": "https://localhost:8080/",
          "height": 0
        },
        "outputId": "19fb3dd1-adc7-4798-c146-f66e7835bd39"
      },
      "source": [
        "data = {'Spending Index': [3,3,5,2,4,6,6,6,5,6,7,8,9,8,9,9,8], 'Income Index': [5,4,6,6,5,8,2,3,6,7,2,5,1,2,6,1,3]}\n",
        "dataframe = pd.DataFrame(data=data)\n",
        "dataframe"
      ],
      "execution_count": 38,
      "outputs": [
        {
          "output_type": "execute_result",
          "data": {
            "text/html": [
              "<div>\n",
              "<style scoped>\n",
              "    .dataframe tbody tr th:only-of-type {\n",
              "        vertical-align: middle;\n",
              "    }\n",
              "\n",
              "    .dataframe tbody tr th {\n",
              "        vertical-align: top;\n",
              "    }\n",
              "\n",
              "    .dataframe thead th {\n",
              "        text-align: right;\n",
              "    }\n",
              "</style>\n",
              "<table border=\"1\" class=\"dataframe\">\n",
              "  <thead>\n",
              "    <tr style=\"text-align: right;\">\n",
              "      <th></th>\n",
              "      <th>Spending Index</th>\n",
              "      <th>Income Index</th>\n",
              "    </tr>\n",
              "  </thead>\n",
              "  <tbody>\n",
              "    <tr>\n",
              "      <th>0</th>\n",
              "      <td>3</td>\n",
              "      <td>5</td>\n",
              "    </tr>\n",
              "    <tr>\n",
              "      <th>1</th>\n",
              "      <td>3</td>\n",
              "      <td>4</td>\n",
              "    </tr>\n",
              "    <tr>\n",
              "      <th>2</th>\n",
              "      <td>5</td>\n",
              "      <td>6</td>\n",
              "    </tr>\n",
              "    <tr>\n",
              "      <th>3</th>\n",
              "      <td>2</td>\n",
              "      <td>6</td>\n",
              "    </tr>\n",
              "    <tr>\n",
              "      <th>4</th>\n",
              "      <td>4</td>\n",
              "      <td>5</td>\n",
              "    </tr>\n",
              "    <tr>\n",
              "      <th>5</th>\n",
              "      <td>6</td>\n",
              "      <td>8</td>\n",
              "    </tr>\n",
              "    <tr>\n",
              "      <th>6</th>\n",
              "      <td>6</td>\n",
              "      <td>2</td>\n",
              "    </tr>\n",
              "    <tr>\n",
              "      <th>7</th>\n",
              "      <td>6</td>\n",
              "      <td>3</td>\n",
              "    </tr>\n",
              "    <tr>\n",
              "      <th>8</th>\n",
              "      <td>5</td>\n",
              "      <td>6</td>\n",
              "    </tr>\n",
              "    <tr>\n",
              "      <th>9</th>\n",
              "      <td>6</td>\n",
              "      <td>7</td>\n",
              "    </tr>\n",
              "    <tr>\n",
              "      <th>10</th>\n",
              "      <td>7</td>\n",
              "      <td>2</td>\n",
              "    </tr>\n",
              "    <tr>\n",
              "      <th>11</th>\n",
              "      <td>8</td>\n",
              "      <td>5</td>\n",
              "    </tr>\n",
              "    <tr>\n",
              "      <th>12</th>\n",
              "      <td>9</td>\n",
              "      <td>1</td>\n",
              "    </tr>\n",
              "    <tr>\n",
              "      <th>13</th>\n",
              "      <td>8</td>\n",
              "      <td>2</td>\n",
              "    </tr>\n",
              "    <tr>\n",
              "      <th>14</th>\n",
              "      <td>9</td>\n",
              "      <td>6</td>\n",
              "    </tr>\n",
              "    <tr>\n",
              "      <th>15</th>\n",
              "      <td>9</td>\n",
              "      <td>1</td>\n",
              "    </tr>\n",
              "    <tr>\n",
              "      <th>16</th>\n",
              "      <td>8</td>\n",
              "      <td>3</td>\n",
              "    </tr>\n",
              "  </tbody>\n",
              "</table>\n",
              "</div>"
            ],
            "text/plain": [
              "    Spending Index  Income Index\n",
              "0                3             5\n",
              "1                3             4\n",
              "2                5             6\n",
              "3                2             6\n",
              "4                4             5\n",
              "5                6             8\n",
              "6                6             2\n",
              "7                6             3\n",
              "8                5             6\n",
              "9                6             7\n",
              "10               7             2\n",
              "11               8             5\n",
              "12               9             1\n",
              "13               8             2\n",
              "14               9             6\n",
              "15               9             1\n",
              "16               8             3"
            ]
          },
          "metadata": {},
          "execution_count": 38
        }
      ]
    },
    {
      "cell_type": "markdown",
      "metadata": {
        "id": "rfVp1su76OOS"
      },
      "source": [
        "##Compute Within Cluster Sum of Squares if value of K needs to be determined"
      ]
    },
    {
      "cell_type": "code",
      "metadata": {
        "colab": {
          "base_uri": "https://localhost:8080/",
          "height": 0
        },
        "id": "xEhT4nWN2vT9",
        "outputId": "0b8169e8-66cb-43ba-ebb6-24a4b2cf7c3f"
      },
      "source": [
        "wcss = []\n",
        "for i in range (1, 15):\n",
        "  kmeans = KMeans(n_clusters=i, init='k-means++', random_state=42)\n",
        "  kmeans.fit(dataframe)\n",
        "  wcss.append(kmeans.inertia_)\n",
        "plot.plot(range(1,15), wcss)\n",
        "plot.title('The Elbow Method')\n",
        "plot.xlabel('Number of clusters')\n",
        "plot.ylabel('WCSS')\n",
        "plot.show()"
      ],
      "execution_count": 39,
      "outputs": [
        {
          "output_type": "display_data",
          "data": {
            "image/png": "[encoded data removed]",
            "text/plain": [
              "<Figure size 432x288 with 1 Axes>"
            ]
          },
          "metadata": {
            "needs_background": "light"
          }
        }
      ]
    },
    {
      "cell_type": "markdown",
      "metadata": {
        "id": "KRcBjWji6eXX"
      },
      "source": [
        "##Calculating K means cluster for K=2"
      ]
    },
    {
      "cell_type": "code",
      "metadata": {
        "colab": {
          "base_uri": "https://localhost:8080/"
        },
        "id": "sfIja2HR20OX",
        "outputId": "00c01792-a29b-438b-825f-ee21269616e7"
      },
      "source": [
        "kmeans = KMeans(n_clusters=2, init='k-means++', random_state=42)\n",
        "y_kmeans= kmeans.fit_predict(dataframe)\n",
        "y_kmeans"
      ],
      "execution_count": 40,
      "outputs": [
        {
          "output_type": "execute_result",
          "data": {
            "text/plain": [
              "array([1, 1, 1, 1, 1, 1, 0, 0, 1, 1, 0, 0, 0, 0, 0, 0, 0], dtype=int32)"
            ]
          },
          "metadata": {},
          "execution_count": 40
        }
      ]
    },
    {
      "cell_type": "markdown",
      "metadata": {
        "id": "H1XVfvsW6iDb"
      },
      "source": [
        "##Visualisation of K means clusters and its centroids for K=2"
      ]
    },
    {
      "cell_type": "code",
      "metadata": {
        "colab": {
          "base_uri": "https://localhost:8080/",
          "height": 0
        },
        "id": "YJAIM7Di2_-H",
        "outputId": "2529d186-7d1b-4a1c-cbd2-8e0913c83178"
      },
      "source": [
        "plot.scatter(dataframe[y_kmeans == 0]['Spending Index'], dataframe[y_kmeans == 0]['Income Index'], s = 100, c = 'red', label = 'Cluster 1')\n",
        "plot.scatter(dataframe[y_kmeans == 1]['Spending Index'], dataframe[y_kmeans == 1]['Income Index'], s = 100, c = 'blue', label = 'Cluster 2')\n",
        "plot.scatter(kmeans.cluster_centers_[:, 0], kmeans.cluster_centers_[:, 1], s = 300, c = 'yellow', label = 'Centroids')\n",
        "plot.title('Clusters of Shoppers')\n",
        "plot.xlabel('Income Index')\n",
        "plot.ylabel('Spending Index')\n",
        "plot.legend()\n",
        "plot.show()"
      ],
      "execution_count": 41,
      "outputs": [
        {
          "output_type": "display_data",
          "data": {
            "image/png": "[encoded data removed]",
            "text/plain": [
              "<Figure size 432x288 with 1 Axes>"
            ]
          },
          "metadata": {
            "needs_background": "light"
          }
        }
      ]
    },
    {
      "cell_type": "markdown",
      "metadata": {
        "id": "ILcnlFHK6xeY"
      },
      "source": [
        "##Calculating K means cluster for K=3"
      ]
    },
    {
      "cell_type": "code",
      "metadata": {
        "colab": {
          "base_uri": "https://localhost:8080/"
        },
        "id": "dmN2TnNV6_gX",
        "outputId": "78019aa4-24f8-4ecf-f3a2-0fb249926464"
      },
      "source": [
        "kmeans = KMeans(n_clusters=3, init='k-means++', random_state=42)\n",
        "y_kmeans= kmeans.fit_predict(dataframe)\n",
        "y_kmeans"
      ],
      "execution_count": 42,
      "outputs": [
        {
          "output_type": "execute_result",
          "data": {
            "text/plain": [
              "array([2, 2, 2, 2, 2, 0, 1, 1, 2, 0, 1, 0, 1, 1, 0, 1, 1], dtype=int32)"
            ]
          },
          "metadata": {},
          "execution_count": 42
        }
      ]
    },
    {
      "cell_type": "markdown",
      "metadata": {
        "id": "e6m39DGJ7Fli"
      },
      "source": [
        "## Visualisation of K means clusters and its centroids for K=3"
      ]
    },
    {
      "cell_type": "code",
      "metadata": {
        "colab": {
          "base_uri": "https://localhost:8080/",
          "height": 0
        },
        "id": "tEWxYtPk7Keq",
        "outputId": "85b52a30-ee85-443c-d04c-4089aed9fefb"
      },
      "source": [
        "plot.scatter(dataframe[y_kmeans == 0]['Spending Index'], dataframe[y_kmeans == 0]['Income Index'], s = 100, c = 'red', label = 'Cluster 1')\n",
        "plot.scatter(dataframe[y_kmeans == 1]['Spending Index'], dataframe[y_kmeans == 1]['Income Index'], s = 100, c = 'blue', label = 'Cluster 2')\n",
        "plot.scatter(dataframe[y_kmeans == 2]['Spending Index'], dataframe[y_kmeans == 2]['Income Index'], s = 100, c = 'green', label = 'Cluster 3')\n",
        "plot.scatter(kmeans.cluster_centers_[:, 0], kmeans.cluster_centers_[:, 1], s = 300, c = 'yellow', label = 'Centroids')\n",
        "plot.title('Clusters of Shoppers')\n",
        "plot.xlabel('Income Index')\n",
        "plot.ylabel('Spending Index')\n",
        "plot.legend()\n",
        "plot.show()"
      ],
      "execution_count": 43,
      "outputs": [
        {
          "output_type": "display_data",
          "data": {
            "image/png": "[encoded data removed]",
            "text/plain": [
              "<Figure size 432x288 with 1 Axes>"
            ]
          },
          "metadata": {
            "needs_background": "light"
          }
        }
      ]
    },
    {
      "cell_type": "markdown",
      "metadata": {
        "id": "uV6yEtKA7RLO"
      },
      "source": [
        "##Calculating K means cluster for K=4"
      ]
    },
    {
      "cell_type": "code",
      "metadata": {
        "colab": {
          "base_uri": "https://localhost:8080/"
        },
        "id": "0vlOTAma7XH8",
        "outputId": "575128d9-b5d8-4a8d-e536-21dd11bcaa9b"
      },
      "source": [
        "kmeans = KMeans(n_clusters=4, init='k-means++', random_state=42)\n",
        "y_kmeans= kmeans.fit_predict(dataframe)\n",
        "y_kmeans"
      ],
      "execution_count": 44,
      "outputs": [
        {
          "output_type": "execute_result",
          "data": {
            "text/plain": [
              "array([2, 2, 0, 2, 2, 0, 1, 1, 0, 0, 1, 3, 1, 1, 3, 1, 1], dtype=int32)"
            ]
          },
          "metadata": {},
          "execution_count": 44
        }
      ]
    },
    {
      "cell_type": "markdown",
      "metadata": {
        "id": "rPVhrTiU7cTn"
      },
      "source": [
        "##Visualisation of K means clusters and its centroids for K=4"
      ]
    },
    {
      "cell_type": "code",
      "metadata": {
        "colab": {
          "base_uri": "https://localhost:8080/",
          "height": 0
        },
        "id": "yPtFBYQB7jwz",
        "outputId": "5863e538-0809-47cb-ed9f-d198b96acba8"
      },
      "source": [
        "plot.scatter(dataframe[y_kmeans == 0]['Spending Index'], dataframe[y_kmeans == 0]['Income Index'], s = 100, c = 'red', label = 'Cluster 1')\n",
        "plot.scatter(dataframe[y_kmeans == 1]['Spending Index'], dataframe[y_kmeans == 1]['Income Index'], s = 100, c = 'blue', label = 'Cluster 2')\n",
        "plot.scatter(dataframe[y_kmeans == 2]['Spending Index'], dataframe[y_kmeans == 2]['Income Index'], s = 100, c = 'green', label = 'Cluster 3')\n",
        "plot.scatter(dataframe[y_kmeans == 3]['Spending Index'], dataframe[y_kmeans == 3]['Income Index'], s = 100, c = 'pink', label = 'Cluster 4')\n",
        "plot.scatter(kmeans.cluster_centers_[:, 0], kmeans.cluster_centers_[:, 1], s = 300, c = 'yellow', label = 'Centroids')\n",
        "plot.title('Clusters of Shoppers')\n",
        "plot.xlabel('Income Index')\n",
        "plot.ylabel('Spending Index')\n",
        "plot.legend()\n",
        "plot.show()"
      ],
      "execution_count": 45,
      "outputs": [
        {
          "output_type": "display_data",
          "data": {
            "image/png": "[encoded data removed]",
            "text/plain": [
              "<Figure size 432x288 with 1 Axes>"
            ]
          },
          "metadata": {
            "needs_background": "light"
          }
        }
      ]
    }
  ]
}